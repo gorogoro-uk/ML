{
  "nbformat": 4,
  "nbformat_minor": 0,
  "metadata": {
    "coursera": {
      "course_slug": "nlp-sequence-models",
      "graded_item_id": "RNnEs",
      "launcher_item_id": "acNYU"
    },
    "kernelspec": {
      "display_name": "Python 3",
      "language": "python",
      "name": "python3"
    },
    "language_info": {
      "codemirror_mode": {
        "name": "ipython",
        "version": 3
      },
      "file_extension": ".py",
      "mimetype": "text/x-python",
      "name": "python",
      "nbconvert_exporter": "python",
      "pygments_lexer": "ipython3",
      "version": "3.6.0"
    },
    "colab": {
      "name": "Seq_2.2_Emojify.ipynb",
      "provenance": [],
      "include_colab_link": true
    }
  },
  "cells": [
    {
      "cell_type": "markdown",
      "metadata": {
        "id": "view-in-github",
        "colab_type": "text"
      },
      "source": [
        "<a href=\"https://colab.research.google.com/github/gorogoro-uk/ML/blob/master/Seq_2_2_Emojify.ipynb\" target=\"_parent\"><img src=\"https://colab.research.google.com/assets/colab-badge.svg\" alt=\"Open In Colab\"/></a>"
      ]
    },
    {
      "cell_type": "markdown",
      "metadata": {
        "id": "4-m3YhomRvYQ",
        "colab_type": "text"
      },
      "source": [
        "# Emojify! \n",
        "\n",
        "Welcome to the second assignment of Week 2. You are going to use word vector representations to build an Emojifier. \n",
        "\n",
        "Have you ever wanted to make your text messages more expressive? Your emojifier app will help you do that. \n",
        "So rather than writing:\n",
        ">\"Congratulations on the promotion! Let's get coffee and talk. Love you!\"   \n",
        "\n",
        "The emojifier can automatically turn this into:\n",
        ">\"Congratulations on the promotion! 👍 Let's get coffee and talk. ☕️ Love you! ❤️\"\n",
        "\n",
        "* You will implement a model which inputs a sentence (such as \"Let's go see the baseball game tonight!\") and finds the most appropriate emoji to be used with this sentence (⚾️).\n",
        "\n",
        "#### Using word vectors to improve emoji lookups\n",
        "* In many emoji interfaces, you need to remember that ❤️ is the \"heart\" symbol rather than the \"love\" symbol. \n",
        "    * In other words, you'll have to remember to type \"heart\" to find the desired emoji, and typing \"love\" won't bring up that symbol.\n",
        "* We can make a more flexible emoji interface by using word vectors!\n",
        "* When using word vectors, you'll see that even if your training set explicitly relates only a few words to a particular emoji, your algorithm will be able to generalize and associate additional words in the test set to the same emoji.\n",
        "    * This works even if those additional words don't even appear in the training set. \n",
        "    * This allows you to build an accurate classifier mapping from sentences to emojis, even using a small training set. \n",
        "\n",
        "#### What you'll build\n",
        "1. In this exercise, you'll start with a baseline model (Emojifier-V1) using word embeddings.\n",
        "2. Then you will build a more sophisticated model (Emojifier-V2) that further incorporates an LSTM. "
      ]
    },
    {
      "cell_type": "markdown",
      "metadata": {
        "id": "Ck4VudPFRvYT",
        "colab_type": "text"
      },
      "source": [
        "## <font color='darkblue'>Updates</font>\n",
        "\n",
        "#### If you were working on the notebook before this update...\n",
        "* The current notebook is version \"2a\".\n",
        "* You can find your original work saved in the notebook with the previous version name (\"v2\") \n",
        "* To view the file directory, go to the menu \"File->Open\", and this will open a new tab that shows the file directory.\n",
        "\n",
        "#### List of updates\n",
        "* sentence_to_avg\n",
        "    * Updated instructions.\n",
        "    * Use separate variables to store the total and the average (instead of just `avg`).\n",
        "    * Additional hint about how to initialize the shape of `avg` vector.\n",
        "* sentences_to_indices\n",
        "    * Updated preceding text and instructions, added additional hints.\n",
        "* pretrained_embedding_layer\n",
        "    * Additional instructions to explain how to implement each step.\n",
        "* Emoify_V2\n",
        "    * Modifies instructions to specify which parameters are needed for each Keras layer.\n",
        "    * Remind users of Keras syntax.\n",
        "    * Explanation of how to use the layer object that is returned by `pretrained_embedding_layer`.\n",
        "    * Provides sample Keras code.\n",
        "* Spelling, grammar and wording corrections."
      ]
    },
    {
      "cell_type": "markdown",
      "metadata": {
        "id": "hAP6aP8ZRvYV",
        "colab_type": "text"
      },
      "source": [
        "Let's get started! Run the following cell to load the package you are going to use. "
      ]
    },
    {
      "cell_type": "code",
      "metadata": {
        "id": "XlXe2TVdRvYX",
        "colab_type": "code",
        "colab": {}
      },
      "source": [
        "import numpy as np\n",
        "from emo_utils import *\n",
        "import emoji\n",
        "import matplotlib.pyplot as plt\n",
        "\n",
        "%matplotlib inline"
      ],
      "execution_count": null,
      "outputs": []
    },
    {
      "cell_type": "markdown",
      "metadata": {
        "id": "ZdDW2CGqRvYf",
        "colab_type": "text"
      },
      "source": [
        "## 1 - Baseline model: Emojifier-V1\n",
        "\n",
        "### 1.1 - Dataset EMOJISET\n",
        "\n",
        "Let's start by building a simple baseline classifier. \n",
        "\n",
        "You have a tiny dataset (X, Y) where:\n",
        "- X contains 127 sentences (strings).\n",
        "- Y contains an integer label between 0 and 4 corresponding to an emoji for each sentence.\n",
        "\n",
        "<img src=\"images/data_set.png\" style=\"width:700px;height:300px;\">\n",
        "<caption><center> **Figure 1**: EMOJISET - a classification problem with 5 classes. A few examples of sentences are given here. </center></caption>\n",
        "\n",
        "Let's load the dataset using the code below. We split the dataset between training (127 examples) and testing (56 examples)."
      ]
    },
    {
      "cell_type": "code",
      "metadata": {
        "id": "UU7SePx2RvYg",
        "colab_type": "code",
        "colab": {}
      },
      "source": [
        "X_train, Y_train = read_csv('data/train_emoji.csv')\n",
        "X_test, Y_test = read_csv('data/tesss.csv')"
      ],
      "execution_count": null,
      "outputs": []
    },
    {
      "cell_type": "code",
      "metadata": {
        "id": "1eaoymqNRvYm",
        "colab_type": "code",
        "colab": {}
      },
      "source": [
        "maxLen = len(max(X_train, key=len).split())"
      ],
      "execution_count": null,
      "outputs": []
    },
    {
      "cell_type": "markdown",
      "metadata": {
        "id": "aim0SissRvYr",
        "colab_type": "text"
      },
      "source": [
        "Run the following cell to print sentences from X_train and corresponding labels from Y_train. \n",
        "* Change `idx` to see different examples. \n",
        "* Note that due to the font used by iPython notebook, the heart emoji may be colored black rather than red."
      ]
    },
    {
      "cell_type": "code",
      "metadata": {
        "id": "IcgaLEdJRvYr",
        "colab_type": "code",
        "colab": {},
        "outputId": "e8b760ac-850f-4061-9ffa-fba02de50921"
      },
      "source": [
        "for idx in range(10):\n",
        "    print(X_train[idx], label_to_emoji(Y_train[idx]))"
      ],
      "execution_count": null,
      "outputs": [
        {
          "output_type": "stream",
          "text": [
            "never talk to me again 😞\n",
            "I am proud of your achievements 😄\n",
            "It is the worst day in my life 😞\n",
            "Miss you so much ❤️\n",
            "food is life 🍴\n",
            "I love you mum ❤️\n",
            "Stop saying bullshit 😞\n",
            "congratulations on your acceptance 😄\n",
            "The assignment is too long  😞\n",
            "I want to go play ⚾\n"
          ],
          "name": "stdout"
        }
      ]
    },
    {
      "cell_type": "markdown",
      "metadata": {
        "id": "Mcv5EVjiRvYv",
        "colab_type": "text"
      },
      "source": [
        "### 1.2 - Overview of the Emojifier-V1\n",
        "\n",
        "In this part, you are going to implement a baseline model called \"Emojifier-v1\".  \n",
        "\n",
        "<center>\n",
        "<img src=\"images/image_1.png\" style=\"width:900px;height:300px;\">\n",
        "<caption><center> **Figure 2**: Baseline model (Emojifier-V1).</center></caption>\n",
        "</center>\n",
        "\n",
        "\n",
        "#### Inputs and outputs\n",
        "* The input of the model is a string corresponding to a sentence (e.g. \"I love you). \n",
        "* The output will be a probability vector of shape (1,5), (there are 5 emojis to choose from).\n",
        "* The (1,5) probability vector is passed to an argmax layer, which extracts the index of the emoji with the highest probability."
      ]
    },
    {
      "cell_type": "markdown",
      "metadata": {
        "id": "BAQB9SFWRvYw",
        "colab_type": "text"
      },
      "source": [
        "#### One-hot encoding\n",
        "* To get our labels into a format suitable for training a softmax classifier, lets convert $Y$ from its current shape  $(m, 1)$ into a \"one-hot representation\" $(m, 5)$, \n",
        "    * Each row is a one-hot vector giving the label of one example.\n",
        "    * Here, `Y_oh` stands for \"Y-one-hot\" in the variable names `Y_oh_train` and `Y_oh_test`: "
      ]
    },
    {
      "cell_type": "code",
      "metadata": {
        "id": "4wDNVDtRRvYw",
        "colab_type": "code",
        "colab": {}
      },
      "source": [
        "Y_oh_train = convert_to_one_hot(Y_train, C = 5)\n",
        "Y_oh_test = convert_to_one_hot(Y_test, C = 5)"
      ],
      "execution_count": null,
      "outputs": []
    },
    {
      "cell_type": "markdown",
      "metadata": {
        "id": "AN1zyWgwRvYz",
        "colab_type": "text"
      },
      "source": [
        "Let's see what `convert_to_one_hot()` did. Feel free to change `index` to print out different values. "
      ]
    },
    {
      "cell_type": "code",
      "metadata": {
        "id": "eh-ff6LvRvY0",
        "colab_type": "code",
        "colab": {},
        "outputId": "7be77fcb-5f7e-4a8f-d42a-5526a69abc02"
      },
      "source": [
        "idx = 33\n",
        "print(f\"Sentence '{X_train[idx]}' has label index {Y_train[idx]}, which is emoji {label_to_emoji(Y_train[idx])}\", )\n",
        "print(f\"Label index {Y_train[idx]} in one-hot encoding format is {Y_oh_train[idx]}\")"
      ],
      "execution_count": null,
      "outputs": [
        {
          "output_type": "stream",
          "text": [
            "Sentence 'I said yes' has label index 2, which is emoji 😄\n",
            "Label index 2 in one-hot encoding format is [ 0.  0.  1.  0.  0.]\n"
          ],
          "name": "stdout"
        }
      ]
    },
    {
      "cell_type": "markdown",
      "metadata": {
        "id": "i_f8JZ1LRvY4",
        "colab_type": "text"
      },
      "source": [
        "All the data is now ready to be fed into the Emojify-V1 model. Let's implement the model!"
      ]
    },
    {
      "cell_type": "markdown",
      "metadata": {
        "id": "CueThpW-RvY4",
        "colab_type": "text"
      },
      "source": [
        "### 1.3 - Implementing Emojifier-V1\n",
        "\n",
        "As shown in Figure 2 (above), the first step is to:\n",
        "* Convert each word in the input sentence into their word vector representations.\n",
        "* Then take an average of the word vectors. \n",
        "* Similar to the previous exercise, we will use pre-trained 50-dimensional GloVe embeddings. \n",
        "\n",
        "Run the following cell to load the `word_to_vec_map`, which contains all the vector representations."
      ]
    },
    {
      "cell_type": "code",
      "metadata": {
        "id": "mGaBlByxRvY5",
        "colab_type": "code",
        "colab": {}
      },
      "source": [
        "word_to_index, index_to_word, word_to_vec_map = read_glove_vecs('../../readonly/glove.6B.50d.txt')"
      ],
      "execution_count": null,
      "outputs": []
    },
    {
      "cell_type": "markdown",
      "metadata": {
        "id": "RHnOViqnRvY8",
        "colab_type": "text"
      },
      "source": [
        "You've loaded:\n",
        "- `word_to_index`: dictionary mapping from words to their indices in the vocabulary \n",
        "    - (400,001 words, with the valid indices ranging from 0 to 400,000)\n",
        "- `index_to_word`: dictionary mapping from indices to their corresponding words in the vocabulary\n",
        "- `word_to_vec_map`: dictionary mapping words to their GloVe vector representation.\n",
        "\n",
        "Run the following cell to check if it works."
      ]
    },
    {
      "cell_type": "code",
      "metadata": {
        "id": "lqlMYc7lRvY9",
        "colab_type": "code",
        "colab": {},
        "outputId": "c04fb2c0-27cb-4044-c78d-e67c85b0e652"
      },
      "source": [
        "word = \"cucumber\"\n",
        "idx = 289846\n",
        "print(\"the index of\", word, \"in the vocabulary is\", word_to_index[word])\n",
        "print(\"the\", str(idx) + \"th word in the vocabulary is\", index_to_word[idx])"
      ],
      "execution_count": null,
      "outputs": [
        {
          "output_type": "stream",
          "text": [
            "the index of cucumber in the vocabulary is 113317\n",
            "the 289846th word in the vocabulary is potatos\n"
          ],
          "name": "stdout"
        }
      ]
    },
    {
      "cell_type": "markdown",
      "metadata": {
        "id": "-GAFgJsARvZA",
        "colab_type": "text"
      },
      "source": [
        "**Exercise**: Implement `sentence_to_avg()`. You will need to carry out two steps:\n",
        "1. Convert every sentence to lower-case, then split the sentence into a list of words. \n",
        "    * `X.lower()` and `X.split()` might be useful. \n",
        "2. For each word in the sentence, access its GloVe representation.\n",
        "    * Then take the average of all of these word vectors.\n",
        "    * You might use `numpy.zeros()`.\n",
        "    \n",
        "    \n",
        "#### Additional Hints\n",
        "* When creating the `avg` array of zeros, you'll want it to be a vector of the same shape as the other word vectors in the `word_to_vec_map`.  \n",
        "    * You can choose a word that exists in the `word_to_vec_map` and access its `.shape` field.\n",
        "    * Be careful not to hard code the word that you access.  In other words, don't assume that if you see the word 'the' in the `word_to_vec_map` within this notebook, that this word will be in the `word_to_vec_map` when the function is being called by the automatic grader.\n",
        "    * Hint: you can use any one of the word vectors that you retrieved from the input `sentence` to find the shape of a word vector."
      ]
    },
    {
      "cell_type": "code",
      "metadata": {
        "collapsed": true,
        "id": "JyZ0inVbRvZB",
        "colab_type": "code",
        "colab": {}
      },
      "source": [
        "# GRADED FUNCTION: sentence_to_avg\n",
        "\n",
        "def sentence_to_avg(sentence, word_to_vec_map):\n",
        "    \"\"\"\n",
        "    Converts a sentence (string) into a list of words (strings). Extracts the GloVe representation of each word\n",
        "    and averages its value into a single vector encoding the meaning of the sentence.\n",
        "    \n",
        "    Arguments:\n",
        "    sentence -- string, one training example from X\n",
        "    word_to_vec_map -- dictionary mapping every word in a vocabulary into its 50-dimensional vector representation\n",
        "    \n",
        "    Returns:\n",
        "    avg -- average vector encoding information about the sentence, numpy-array of shape (50,)\n",
        "    \"\"\"\n",
        "    \n",
        "    ### START CODE HERE ###\n",
        "    # Step 1: Split sentence into list of lower case words (≈ 1 line)\n",
        "    words = sentence.lower().split()\n",
        "\n",
        "    # Initialize the average word vector, should have the same shape as your word vectors.\n",
        "    avg = np.zeros(word_to_vec_map[words[0]].shape)\n",
        "    \n",
        "    # Step 2: average the word vectors. You can loop over the words in the list \"words\".\n",
        "    total = 0\n",
        "    for w in words:\n",
        "        total += word_to_vec_map[w]\n",
        "    avg = total/len(words)\n",
        "    \n",
        "    ### END CODE HERE ###\n",
        "    \n",
        "    return avg"
      ],
      "execution_count": null,
      "outputs": []
    },
    {
      "cell_type": "code",
      "metadata": {
        "scrolled": true,
        "id": "Pkj0h01cRvZE",
        "colab_type": "code",
        "colab": {},
        "outputId": "9eb460ad-f0e9-4627-c541-7bba472c9e47"
      },
      "source": [
        "avg = sentence_to_avg(\"Morrocan couscous is my favorite dish\", word_to_vec_map)\n",
        "print(\"avg = \\n\", avg)"
      ],
      "execution_count": null,
      "outputs": [
        {
          "output_type": "stream",
          "text": [
            "avg = \n",
            " [-0.008005    0.56370833 -0.50427333  0.258865    0.55131103  0.03104983\n",
            " -0.21013718  0.16893933 -0.09590267  0.141784   -0.15708967  0.18525867\n",
            "  0.6495785   0.38371117  0.21102167  0.11301667  0.02613967  0.26037767\n",
            "  0.05820667 -0.01578167 -0.12078833 -0.02471267  0.4128455   0.5152061\n",
            "  0.38756167 -0.898661   -0.535145    0.33501167  0.68806933 -0.2156265\n",
            "  1.797155    0.10476933 -0.36775333  0.750785    0.10282583  0.348925\n",
            " -0.27262833  0.66768    -0.10706167 -0.283635    0.59580117  0.28747333\n",
            " -0.3366635   0.23393817  0.34349183  0.178405    0.1166155  -0.076433\n",
            "  0.1445417   0.09808667]\n"
          ],
          "name": "stdout"
        }
      ]
    },
    {
      "cell_type": "markdown",
      "metadata": {
        "id": "roPD1fw-RvZI",
        "colab_type": "text"
      },
      "source": [
        "**Expected Output**:\n",
        "\n",
        "```Python\n",
        "avg =\n",
        "[-0.008005    0.56370833 -0.50427333  0.258865    0.55131103  0.03104983\n",
        " -0.21013718  0.16893933 -0.09590267  0.141784   -0.15708967  0.18525867\n",
        "  0.6495785   0.38371117  0.21102167  0.11301667  0.02613967  0.26037767\n",
        "  0.05820667 -0.01578167 -0.12078833 -0.02471267  0.4128455   0.5152061\n",
        "  0.38756167 -0.898661   -0.535145    0.33501167  0.68806933 -0.2156265\n",
        "  1.797155    0.10476933 -0.36775333  0.750785    0.10282583  0.348925\n",
        " -0.27262833  0.66768    -0.10706167 -0.283635    0.59580117  0.28747333\n",
        " -0.3366635   0.23393817  0.34349183  0.178405    0.1166155  -0.076433\n",
        "  0.1445417   0.09808667]\n",
        "```"
      ]
    },
    {
      "cell_type": "markdown",
      "metadata": {
        "id": "peoERZSpRvZJ",
        "colab_type": "text"
      },
      "source": [
        "#### Model\n",
        "\n",
        "You now have all the pieces to finish implementing the `model()` function. \n",
        "After using `sentence_to_avg()` you need to:\n",
        "* Pass the average through forward propagation\n",
        "* Compute the cost\n",
        "* Backpropagate to update the softmax parameters\n",
        "\n",
        "**Exercise**: Implement the `model()` function described in Figure (2). \n",
        "\n",
        "* The equations you need to implement in the forward pass and to compute the cross-entropy cost are below:\n",
        "* The variable $Y_{oh}$ (\"Y one hot\") is the one-hot encoding of the output labels. \n",
        "\n",
        "$$ z^{(i)} = W . avg^{(i)} + b$$\n",
        "\n",
        "$$ a^{(i)} = softmax(z^{(i)})$$\n",
        "\n",
        "$$ \\mathcal{L}^{(i)} = - \\sum_{k = 0}^{n_y - 1} Y_{oh,k}^{(i)} * log(a^{(i)}_k)$$\n",
        "\n",
        "**Note** It is possible to come up with a more efficient vectorized implementation. For now, let's use nested for loops to better understand the algorithm, and for easier debugging.\n",
        "\n",
        "We provided the function `softmax()`, which was imported earlier."
      ]
    },
    {
      "cell_type": "code",
      "metadata": {
        "collapsed": true,
        "id": "M95kAOg8RvZK",
        "colab_type": "code",
        "colab": {}
      },
      "source": [
        "# GRADED FUNCTION: model\n",
        "\n",
        "def model(X, Y, word_to_vec_map, learning_rate = 0.01, num_iterations = 400):\n",
        "    \"\"\"\n",
        "    Model to train word vector representations in numpy.\n",
        "    \n",
        "    Arguments:\n",
        "    X -- input data, numpy array of sentences as strings, of shape (m, 1)\n",
        "    Y -- labels, numpy array of integers between 0 and 7, numpy-array of shape (m, 1)\n",
        "    word_to_vec_map -- dictionary mapping every word in a vocabulary into its 50-dimensional vector representation\n",
        "    learning_rate -- learning_rate for the stochastic gradient descent algorithm\n",
        "    num_iterations -- number of iterations\n",
        "    \n",
        "    Returns:\n",
        "    pred -- vector of predictions, numpy-array of shape (m, 1)\n",
        "    W -- weight matrix of the softmax layer, of shape (n_y, n_h)\n",
        "    b -- bias of the softmax layer, of shape (n_y,)\n",
        "    \"\"\"\n",
        "    \n",
        "    np.random.seed(1)\n",
        "\n",
        "    # Define number of training examples\n",
        "    m = Y.shape[0]                          # number of training examples\n",
        "    n_y = 5                                 # number of classes  \n",
        "    n_h = 50                                # dimensions of the GloVe vectors \n",
        "    \n",
        "    # Initialize parameters using Xavier initialization\n",
        "    W = np.random.randn(n_y, n_h) / np.sqrt(n_h)\n",
        "    b = np.zeros((n_y,))\n",
        "    \n",
        "    # Convert Y to Y_onehot with n_y classes\n",
        "    Y_oh = convert_to_one_hot(Y, C = n_y) \n",
        "    \n",
        "    # Optimization loop\n",
        "    for t in range(num_iterations): # Loop over the number of iterations\n",
        "        for i in range(m):          # Loop over the training examples\n",
        "            \n",
        "            ### START CODE HERE ### (≈ 4 lines of code)\n",
        "            # Average the word vectors of the words from the i'th training example\n",
        "            avg = sentence_to_avg(X[i], word_to_vec_map)\n",
        "\n",
        "            # Forward propagate the avg through the softmax layer\n",
        "            z = np.dot(W,avg) + b\n",
        "            a = softmax(z)\n",
        "\n",
        "            # Compute cost using the i'th training label's one hot representation and \"A\" (the output of the softmax)\n",
        "            cost = - np.sum(np.dot(Y_oh,np.log(a)))\n",
        "            ### END CODE HERE ###\n",
        "            \n",
        "            # Compute gradients \n",
        "            dz = a - Y_oh[i]\n",
        "            dW = np.dot(dz.reshape(n_y,1), avg.reshape(1, n_h))\n",
        "            db = dz\n",
        "\n",
        "            # Update parameters with Stochastic Gradient Descent\n",
        "            W = W - learning_rate * dW\n",
        "            b = b - learning_rate * db\n",
        "        \n",
        "        if t % 100 == 0:\n",
        "            print(\"Epoch: \" + str(t) + \" --- cost = \" + str(cost))\n",
        "            pred = predict(X, Y, W, b, word_to_vec_map) #predict is defined in emo_utils.py\n",
        "\n",
        "    return pred, W, b"
      ],
      "execution_count": null,
      "outputs": []
    },
    {
      "cell_type": "code",
      "metadata": {
        "id": "Lg4PtOy9RvZN",
        "colab_type": "code",
        "colab": {},
        "outputId": "72c5de3c-986b-4e6e-c322-61116e6530f3"
      },
      "source": [
        "print(X_train.shape)\n",
        "print(Y_train.shape)\n",
        "print(np.eye(5)[Y_train.reshape(-1)].shape)\n",
        "print(X_train[0])\n",
        "print(type(X_train))\n",
        "Y = np.asarray([5,0,0,5, 4, 4, 4, 6, 6, 4, 1, 1, 5, 6, 6, 3, 6, 3, 4, 4])\n",
        "print(Y.shape)\n",
        "\n",
        "X = np.asarray(['I am going to the bar tonight', 'I love you', 'miss you my dear',\n",
        " 'Lets go party and drinks','Congrats on the new job','Congratulations',\n",
        " 'I am so happy for you', 'Why are you feeling bad', 'What is wrong with you',\n",
        " 'You totally deserve this prize', 'Let us go play football',\n",
        " 'Are you down for football this afternoon', 'Work hard play harder',\n",
        " 'It is suprising how people can be dumb sometimes',\n",
        " 'I am very disappointed','It is the best day in my life',\n",
        " 'I think I will end up alone','My life is so boring','Good job',\n",
        " 'Great so awesome'])\n",
        "\n",
        "print(X.shape)\n",
        "print(np.eye(5)[Y_train.reshape(-1)].shape)\n",
        "print(type(X_train))\n"
      ],
      "execution_count": null,
      "outputs": [
        {
          "output_type": "stream",
          "text": [
            "(132,)\n",
            "(132,)\n",
            "(132, 5)\n",
            "never talk to me again\n",
            "<class 'numpy.ndarray'>\n",
            "(20,)\n",
            "(20,)\n",
            "(132, 5)\n",
            "<class 'numpy.ndarray'>\n"
          ],
          "name": "stdout"
        }
      ]
    },
    {
      "cell_type": "markdown",
      "metadata": {
        "id": "UcioYo8bRvZQ",
        "colab_type": "text"
      },
      "source": [
        "Run the next cell to train your model and learn the softmax parameters (W,b). "
      ]
    },
    {
      "cell_type": "code",
      "metadata": {
        "scrolled": true,
        "id": "gWNVHXiLRvZQ",
        "colab_type": "code",
        "colab": {},
        "outputId": "3d1a9840-ed3b-4d43-8731-d71726f21dce"
      },
      "source": [
        "pred, W, b = model(X_train, Y_train, word_to_vec_map)\n",
        "print(pred)"
      ],
      "execution_count": null,
      "outputs": [
        {
          "output_type": "stream",
          "text": [
            "Epoch: 0 --- cost = 227.527181633\n",
            "Accuracy: 0.348484848485\n",
            "Epoch: 100 --- cost = 418.198641202\n",
            "Accuracy: 0.931818181818\n",
            "Epoch: 200 --- cost = 482.727277095\n",
            "Accuracy: 0.954545454545\n",
            "Epoch: 300 --- cost = 516.659063961\n",
            "Accuracy: 0.969696969697\n",
            "[[ 3.]\n",
            " [ 2.]\n",
            " [ 3.]\n",
            " [ 0.]\n",
            " [ 4.]\n",
            " [ 0.]\n",
            " [ 3.]\n",
            " [ 2.]\n",
            " [ 3.]\n",
            " [ 1.]\n",
            " [ 3.]\n",
            " [ 3.]\n",
            " [ 1.]\n",
            " [ 3.]\n",
            " [ 2.]\n",
            " [ 3.]\n",
            " [ 2.]\n",
            " [ 3.]\n",
            " [ 1.]\n",
            " [ 2.]\n",
            " [ 3.]\n",
            " [ 0.]\n",
            " [ 2.]\n",
            " [ 2.]\n",
            " [ 2.]\n",
            " [ 1.]\n",
            " [ 4.]\n",
            " [ 3.]\n",
            " [ 3.]\n",
            " [ 4.]\n",
            " [ 0.]\n",
            " [ 3.]\n",
            " [ 4.]\n",
            " [ 2.]\n",
            " [ 0.]\n",
            " [ 3.]\n",
            " [ 2.]\n",
            " [ 2.]\n",
            " [ 3.]\n",
            " [ 4.]\n",
            " [ 2.]\n",
            " [ 2.]\n",
            " [ 0.]\n",
            " [ 2.]\n",
            " [ 3.]\n",
            " [ 0.]\n",
            " [ 3.]\n",
            " [ 2.]\n",
            " [ 4.]\n",
            " [ 3.]\n",
            " [ 0.]\n",
            " [ 3.]\n",
            " [ 3.]\n",
            " [ 3.]\n",
            " [ 4.]\n",
            " [ 2.]\n",
            " [ 1.]\n",
            " [ 1.]\n",
            " [ 1.]\n",
            " [ 2.]\n",
            " [ 3.]\n",
            " [ 1.]\n",
            " [ 0.]\n",
            " [ 0.]\n",
            " [ 0.]\n",
            " [ 3.]\n",
            " [ 4.]\n",
            " [ 4.]\n",
            " [ 2.]\n",
            " [ 2.]\n",
            " [ 1.]\n",
            " [ 2.]\n",
            " [ 0.]\n",
            " [ 3.]\n",
            " [ 2.]\n",
            " [ 2.]\n",
            " [ 0.]\n",
            " [ 3.]\n",
            " [ 3.]\n",
            " [ 1.]\n",
            " [ 2.]\n",
            " [ 1.]\n",
            " [ 2.]\n",
            " [ 2.]\n",
            " [ 4.]\n",
            " [ 3.]\n",
            " [ 3.]\n",
            " [ 2.]\n",
            " [ 4.]\n",
            " [ 0.]\n",
            " [ 0.]\n",
            " [ 3.]\n",
            " [ 3.]\n",
            " [ 3.]\n",
            " [ 3.]\n",
            " [ 2.]\n",
            " [ 0.]\n",
            " [ 1.]\n",
            " [ 2.]\n",
            " [ 3.]\n",
            " [ 0.]\n",
            " [ 2.]\n",
            " [ 2.]\n",
            " [ 2.]\n",
            " [ 3.]\n",
            " [ 2.]\n",
            " [ 2.]\n",
            " [ 2.]\n",
            " [ 4.]\n",
            " [ 1.]\n",
            " [ 1.]\n",
            " [ 3.]\n",
            " [ 3.]\n",
            " [ 4.]\n",
            " [ 1.]\n",
            " [ 2.]\n",
            " [ 1.]\n",
            " [ 1.]\n",
            " [ 3.]\n",
            " [ 1.]\n",
            " [ 0.]\n",
            " [ 4.]\n",
            " [ 0.]\n",
            " [ 3.]\n",
            " [ 3.]\n",
            " [ 4.]\n",
            " [ 4.]\n",
            " [ 1.]\n",
            " [ 4.]\n",
            " [ 3.]\n",
            " [ 0.]\n",
            " [ 2.]]\n"
          ],
          "name": "stdout"
        }
      ]
    },
    {
      "cell_type": "markdown",
      "metadata": {
        "id": "k3tSiheXRvZT",
        "colab_type": "text"
      },
      "source": [
        "**Expected Output** (on a subset of iterations):\n",
        "\n",
        "<table>\n",
        "    <tr>\n",
        "        <td>\n",
        "            **Epoch: 0**\n",
        "        </td>\n",
        "        <td>\n",
        "           cost = 1.95204988128\n",
        "        </td>\n",
        "        <td>\n",
        "           Accuracy: 0.348484848485\n",
        "        </td>\n",
        "    </tr>\n",
        "\n",
        "\n",
        "<tr>\n",
        "        <td>\n",
        "            **Epoch: 100**\n",
        "        </td>\n",
        "        <td>\n",
        "           cost = 0.0797181872601\n",
        "        </td>\n",
        "        <td>\n",
        "           Accuracy: 0.931818181818\n",
        "        </td>\n",
        "    </tr>\n",
        "    \n",
        "<tr>\n",
        "        <td>\n",
        "            **Epoch: 200**\n",
        "        </td>\n",
        "        <td>\n",
        "           cost = 0.0445636924368\n",
        "        </td>\n",
        "        <td>\n",
        "           Accuracy: 0.954545454545\n",
        "        </td>\n",
        "    </tr>\n",
        "    \n",
        "    <tr>\n",
        "        <td>\n",
        "            **Epoch: 300**\n",
        "        </td>\n",
        "        <td>\n",
        "           cost = 0.0343226737879\n",
        "        </td>\n",
        "        <td>\n",
        "           Accuracy: 0.969696969697\n",
        "        </td>\n",
        "    </tr>\n",
        "</table>"
      ]
    },
    {
      "cell_type": "markdown",
      "metadata": {
        "id": "hL8fiKTjRvZU",
        "colab_type": "text"
      },
      "source": [
        "Great! Your model has pretty high accuracy on the training set. Lets now see how it does on the test set. "
      ]
    },
    {
      "cell_type": "markdown",
      "metadata": {
        "id": "fL6yZ10ZRvZU",
        "colab_type": "text"
      },
      "source": [
        "### 1.4 - Examining test set performance \n",
        "\n",
        "* Note that the `predict` function used here is defined in emo_util.spy."
      ]
    },
    {
      "cell_type": "code",
      "metadata": {
        "scrolled": false,
        "id": "XdFo7eXARvZU",
        "colab_type": "code",
        "colab": {},
        "outputId": "bb6b94e6-a62f-47ef-f094-0a654b47be23"
      },
      "source": [
        "print(\"Training set:\")\n",
        "pred_train = predict(X_train, Y_train, W, b, word_to_vec_map)\n",
        "print('Test set:')\n",
        "pred_test = predict(X_test, Y_test, W, b, word_to_vec_map)"
      ],
      "execution_count": null,
      "outputs": [
        {
          "output_type": "stream",
          "text": [
            "Training set:\n",
            "Accuracy: 0.977272727273\n",
            "Test set:\n",
            "Accuracy: 0.857142857143\n"
          ],
          "name": "stdout"
        }
      ]
    },
    {
      "cell_type": "markdown",
      "metadata": {
        "id": "WeaLQeQ4RvZX",
        "colab_type": "text"
      },
      "source": [
        "**Expected Output**:\n",
        "\n",
        "<table>\n",
        "    <tr>\n",
        "        <td>\n",
        "            **Train set accuracy**\n",
        "        </td>\n",
        "        <td>\n",
        "           97.7\n",
        "        </td>\n",
        "    </tr>\n",
        "    <tr>\n",
        "        <td>\n",
        "            **Test set accuracy**\n",
        "        </td>\n",
        "        <td>\n",
        "           85.7\n",
        "        </td>\n",
        "    </tr>\n",
        "</table>"
      ]
    },
    {
      "cell_type": "markdown",
      "metadata": {
        "id": "vks1mDSlRvZY",
        "colab_type": "text"
      },
      "source": [
        "* Random guessing would have had 20% accuracy given that there are 5 classes. (1/5 = 20%).\n",
        "* This is pretty good performance after training on only 127 examples. \n",
        "\n",
        "\n",
        "#### The model matches emojis to relevant words\n",
        "In the training set, the algorithm saw the sentence \n",
        ">\"*I love you*\" \n",
        "\n",
        "with the label ❤️. \n",
        "* You can check that the word \"adore\" does not appear in the training set. \n",
        "* Nonetheless, lets see what happens if you write \"*I adore you*.\"\n",
        "\n"
      ]
    },
    {
      "cell_type": "code",
      "metadata": {
        "id": "pGFrPZLeRvZY",
        "colab_type": "code",
        "colab": {},
        "outputId": "ab322571-09b6-4d28-b84e-997fd0a23bcb"
      },
      "source": [
        "X_my_sentences = np.array([\"i adore you\", \"i love you\", \"funny lol\", \"lets play with a ball\", \"food is ready\", \"not feeling happy\"])\n",
        "Y_my_labels = np.array([[0], [0], [2], [1], [4],[3]])\n",
        "\n",
        "pred = predict(X_my_sentences, Y_my_labels , W, b, word_to_vec_map)\n",
        "print_predictions(X_my_sentences, pred)"
      ],
      "execution_count": null,
      "outputs": [
        {
          "output_type": "stream",
          "text": [
            "Accuracy: 0.833333333333\n",
            "\n",
            "i adore you ❤️\n",
            "i love you ❤️\n",
            "funny lol 😄\n",
            "lets play with a ball ⚾\n",
            "food is ready 🍴\n",
            "not feeling happy 😄\n"
          ],
          "name": "stdout"
        }
      ]
    },
    {
      "cell_type": "markdown",
      "metadata": {
        "id": "fEwN9fJARvZb",
        "colab_type": "text"
      },
      "source": [
        "Amazing! \n",
        "* Because *adore* has a similar embedding as *love*, the algorithm has generalized correctly even to a word it has never seen before. \n",
        "* Words such as *heart*, *dear*, *beloved* or *adore* have embedding vectors similar to *love*. \n",
        "    * Feel free to modify the inputs above and try out a variety of input sentences. \n",
        "    * How well does it work?\n",
        "\n",
        "#### Word ordering isn't considered in this model\n",
        "* Note that the model doesn't get the following sentence correct:\n",
        ">\"not feeling happy\" \n",
        "\n",
        "* This algorithm ignores word ordering, so is not good at understanding phrases like \"not happy.\" \n",
        "\n",
        "#### Confusion matrix\n",
        "* Printing the confusion matrix can also help understand which classes are more difficult for your model. \n",
        "* A confusion matrix shows how often an example whose label is one class (\"actual\" class) is mislabeled by the algorithm with a different class (\"predicted\" class)."
      ]
    },
    {
      "cell_type": "code",
      "metadata": {
        "id": "zfyOOoGZRvZb",
        "colab_type": "code",
        "colab": {},
        "outputId": "efecf9de-e775-40e0-ff54-3c76ab5a9bdb"
      },
      "source": [
        "print(Y_test.shape)\n",
        "print('           '+ label_to_emoji(0)+ '    ' + label_to_emoji(1) + '    ' +  label_to_emoji(2)+ '    ' + label_to_emoji(3)+'   ' + label_to_emoji(4))\n",
        "print(pd.crosstab(Y_test, pred_test.reshape(56,), rownames=['Actual'], colnames=['Predicted'], margins=True))\n",
        "plot_confusion_matrix(Y_test, pred_test)"
      ],
      "execution_count": null,
      "outputs": [
        {
          "output_type": "stream",
          "text": [
            "(56,)\n",
            "           ❤️    ⚾    😄    😞   🍴\n"
          ],
          "name": "stdout"
        },
        {
          "output_type": "error",
          "ename": "NameError",
          "evalue": "name 'pred_test' is not defined",
          "traceback": [
            "\u001b[0;31m---------------------------------------------------------------------------\u001b[0m",
            "\u001b[0;31mNameError\u001b[0m                                 Traceback (most recent call last)",
            "\u001b[0;32m<ipython-input-15-832cf1834497>\u001b[0m in \u001b[0;36m<module>\u001b[0;34m()\u001b[0m\n\u001b[1;32m      1\u001b[0m \u001b[0mprint\u001b[0m\u001b[0;34m(\u001b[0m\u001b[0mY_test\u001b[0m\u001b[0;34m.\u001b[0m\u001b[0mshape\u001b[0m\u001b[0;34m)\u001b[0m\u001b[0;34m\u001b[0m\u001b[0m\n\u001b[1;32m      2\u001b[0m \u001b[0mprint\u001b[0m\u001b[0;34m(\u001b[0m\u001b[0;34m'           '\u001b[0m\u001b[0;34m+\u001b[0m \u001b[0mlabel_to_emoji\u001b[0m\u001b[0;34m(\u001b[0m\u001b[0;36m0\u001b[0m\u001b[0;34m)\u001b[0m\u001b[0;34m+\u001b[0m \u001b[0;34m'    '\u001b[0m \u001b[0;34m+\u001b[0m \u001b[0mlabel_to_emoji\u001b[0m\u001b[0;34m(\u001b[0m\u001b[0;36m1\u001b[0m\u001b[0;34m)\u001b[0m \u001b[0;34m+\u001b[0m \u001b[0;34m'    '\u001b[0m \u001b[0;34m+\u001b[0m  \u001b[0mlabel_to_emoji\u001b[0m\u001b[0;34m(\u001b[0m\u001b[0;36m2\u001b[0m\u001b[0;34m)\u001b[0m\u001b[0;34m+\u001b[0m \u001b[0;34m'    '\u001b[0m \u001b[0;34m+\u001b[0m \u001b[0mlabel_to_emoji\u001b[0m\u001b[0;34m(\u001b[0m\u001b[0;36m3\u001b[0m\u001b[0;34m)\u001b[0m\u001b[0;34m+\u001b[0m\u001b[0;34m'   '\u001b[0m \u001b[0;34m+\u001b[0m \u001b[0mlabel_to_emoji\u001b[0m\u001b[0;34m(\u001b[0m\u001b[0;36m4\u001b[0m\u001b[0;34m)\u001b[0m\u001b[0;34m)\u001b[0m\u001b[0;34m\u001b[0m\u001b[0m\n\u001b[0;32m----> 3\u001b[0;31m \u001b[0mprint\u001b[0m\u001b[0;34m(\u001b[0m\u001b[0mpd\u001b[0m\u001b[0;34m.\u001b[0m\u001b[0mcrosstab\u001b[0m\u001b[0;34m(\u001b[0m\u001b[0mY_test\u001b[0m\u001b[0;34m,\u001b[0m \u001b[0mpred_test\u001b[0m\u001b[0;34m.\u001b[0m\u001b[0mreshape\u001b[0m\u001b[0;34m(\u001b[0m\u001b[0;36m56\u001b[0m\u001b[0;34m,\u001b[0m\u001b[0;34m)\u001b[0m\u001b[0;34m,\u001b[0m \u001b[0mrownames\u001b[0m\u001b[0;34m=\u001b[0m\u001b[0;34m[\u001b[0m\u001b[0;34m'Actual'\u001b[0m\u001b[0;34m]\u001b[0m\u001b[0;34m,\u001b[0m \u001b[0mcolnames\u001b[0m\u001b[0;34m=\u001b[0m\u001b[0;34m[\u001b[0m\u001b[0;34m'Predicted'\u001b[0m\u001b[0;34m]\u001b[0m\u001b[0;34m,\u001b[0m \u001b[0mmargins\u001b[0m\u001b[0;34m=\u001b[0m\u001b[0;32mTrue\u001b[0m\u001b[0;34m)\u001b[0m\u001b[0;34m)\u001b[0m\u001b[0;34m\u001b[0m\u001b[0m\n\u001b[0m\u001b[1;32m      4\u001b[0m \u001b[0mplot_confusion_matrix\u001b[0m\u001b[0;34m(\u001b[0m\u001b[0mY_test\u001b[0m\u001b[0;34m,\u001b[0m \u001b[0mpred_test\u001b[0m\u001b[0;34m)\u001b[0m\u001b[0;34m\u001b[0m\u001b[0m\n",
            "\u001b[0;31mNameError\u001b[0m: name 'pred_test' is not defined"
          ]
        }
      ]
    },
    {
      "cell_type": "markdown",
      "metadata": {
        "id": "rU5Tk6piRvZg",
        "colab_type": "text"
      },
      "source": [
        "\n",
        "## What you should remember from this section\n",
        "- Even with a 127 training examples, you can get a reasonably good model for Emojifying. \n",
        "    - This is due to the generalization power word vectors gives you. \n",
        "- Emojify-V1 will perform poorly on sentences such as *\"This movie is not good and not enjoyable\"* \n",
        "    - It doesn't understand combinations of words.\n",
        "    - It just averages all the words' embedding vectors together, without considering the ordering of words. \n",
        "    \n",
        "**You will build a better algorithm in the next section!**"
      ]
    },
    {
      "cell_type": "markdown",
      "metadata": {
        "id": "yJ5x37NfRvZh",
        "colab_type": "text"
      },
      "source": [
        "## 2 - Emojifier-V2: Using LSTMs in Keras: \n",
        "\n",
        "Let's build an LSTM model that takes word **sequences** as input!\n",
        "* This model will be able to account for the word ordering. \n",
        "* Emojifier-V2 will continue to use pre-trained word embeddings to represent words.\n",
        "* We will feed word embeddings into an LSTM.\n",
        "* The LSTM will learn to predict the most appropriate emoji. \n",
        "\n",
        "Run the following cell to load the Keras packages."
      ]
    },
    {
      "cell_type": "code",
      "metadata": {
        "id": "t6pZUSaBRvZh",
        "colab_type": "code",
        "colab": {},
        "outputId": "63dac5d2-1aa0-4c02-c0f5-6a9d7b5bcb6c"
      },
      "source": [
        "import numpy as np\n",
        "np.random.seed(0)\n",
        "from keras.models import Model\n",
        "from keras.layers import Dense, Input, Dropout, LSTM, Activation\n",
        "from keras.layers.embeddings import Embedding\n",
        "from keras.preprocessing import sequence\n",
        "from keras.initializers import glorot_uniform\n",
        "np.random.seed(1)"
      ],
      "execution_count": null,
      "outputs": [
        {
          "output_type": "stream",
          "text": [
            "Using TensorFlow backend.\n"
          ],
          "name": "stderr"
        }
      ]
    },
    {
      "cell_type": "markdown",
      "metadata": {
        "id": "8ZNvJUX8RvZj",
        "colab_type": "text"
      },
      "source": [
        "### 2.1 - Overview of the model\n",
        "\n",
        "Here is the Emojifier-v2 you will implement:\n",
        "\n",
        "<img src=\"images/emojifier-v2.png\" style=\"width:700px;height:400px;\"> <br>\n",
        "<caption><center> **Figure 3**: Emojifier-V2. A 2-layer LSTM sequence classifier. </center></caption>\n",
        "\n"
      ]
    },
    {
      "cell_type": "markdown",
      "metadata": {
        "id": "zo4Ij4S5RvZj",
        "colab_type": "text"
      },
      "source": [
        "### 2.2 Keras and mini-batching \n",
        "\n",
        "* In this exercise, we want to train Keras using mini-batches. \n",
        "* However, most deep learning frameworks require that all sequences in the same mini-batch have the **same length**. \n",
        "    * This is what allows vectorization to work: If you had a 3-word sentence and a 4-word sentence, then the computations needed for them are different (one takes 3 steps of an LSTM, one takes 4 steps) so it's just not possible to do them both at the same time.\n",
        "    \n",
        "#### Padding handles sequences of varying length\n",
        "* The common solution to handling sequences of **different length** is to use padding.  Specifically:\n",
        "    * Set a maximum sequence length\n",
        "    * Pad all sequences to have the same length. \n",
        "    \n",
        "##### Example of padding\n",
        "* Given a maximum sequence length of 20, we could pad every sentence with \"0\"s so that each input sentence is of length 20. \n",
        "* Thus, the sentence \"I love you\" would be represented as $(e_{I}, e_{love}, e_{you}, \\vec{0}, \\vec{0}, \\ldots, \\vec{0})$. \n",
        "* In this example, any sentences longer than 20 words would have to be truncated. \n",
        "* One way to choose the maximum sequence length is to just pick the length of the longest sentence in the training set. \n"
      ]
    },
    {
      "cell_type": "markdown",
      "metadata": {
        "id": "RQ8l-yvuRvZk",
        "colab_type": "text"
      },
      "source": [
        "### 2.3 - The Embedding layer\n",
        "\n",
        "* In Keras, the embedding matrix is represented as a \"layer\".\n",
        "* The embedding matrix maps word indices to embedding vectors.\n",
        "    * The word indices are positive integers.\n",
        "    * The embedding vectors are dense vectors of fixed size.\n",
        "    * When we say a vector is \"dense\", in this context, it means that most of the values are non-zero.  As a counter-example, a one-hot encoded vector is not \"dense.\"\n",
        "* The embedding matrix can be derived in two ways:\n",
        "    * Training a model to derive the embeddings from scratch. \n",
        "    * Using a pretrained embedding\n",
        "    \n",
        "#### Using and updating pre-trained embeddings\n",
        "* In this part, you will learn how to create an [Embedding()](https://keras.io/layers/embeddings/) layer in Keras\n",
        "* You will initialize the Embedding layer with the GloVe 50-dimensional vectors. \n",
        "* In the code below, we'll show you how Keras allows you to either train or leave fixed this layer.  \n",
        "* Because our training set is quite small, we will leave the GloVe embeddings fixed instead of updating them.\n",
        "\n"
      ]
    },
    {
      "cell_type": "markdown",
      "metadata": {
        "id": "xps_HlwjRvZk",
        "colab_type": "text"
      },
      "source": [
        "#### Inputs and outputs to the embedding layer\n",
        "\n",
        "* The `Embedding()` layer's input is an integer matrix of size **(batch size, max input length)**. \n",
        "    * This input corresponds to sentences converted into lists of indices (integers).\n",
        "    * The largest integer (the highest word index) in the input should be no larger than the vocabulary size.\n",
        "* The embedding layer outputs an array of shape (batch size, max input length, dimension of word vectors).\n",
        "\n",
        "* The figure shows the propagation of two example sentences through the embedding layer. \n",
        "    * Both examples have been zero-padded to a length of `max_len=5`.\n",
        "    * The word embeddings are 50 units in length.\n",
        "    * The final dimension of the representation is  `(2,max_len,50)`. \n",
        "\n",
        "<img src=\"images/embedding1.png\" style=\"width:700px;height:250px;\">\n",
        "<caption><center> **Figure 4**: Embedding layer</center></caption>"
      ]
    },
    {
      "cell_type": "markdown",
      "metadata": {
        "id": "HFoZYm-LRvZk",
        "colab_type": "text"
      },
      "source": [
        "#### Prepare the input sentences\n",
        "**Exercise**: \n",
        "* Implement `sentences_to_indices`, which processes an array of sentences (X) and returns inputs to the embedding layer:\n",
        "    * Convert each training sentences into a list of indices (the indices correspond to each word in the sentence)\n",
        "    * Zero-pad all these lists so that their length is the length of the longest sentence.\n",
        "    \n",
        "##### Additional Hints\n",
        "* Note that you may have considered using the `enumerate()` function in the for loop, but for the purposes of passing the autograder, please follow the starter code by initializing and incrementing `j` explicitly."
      ]
    },
    {
      "cell_type": "code",
      "metadata": {
        "id": "l_9W1A_rRvZl",
        "colab_type": "code",
        "colab": {},
        "outputId": "8eee41d6-7268-4da1-811f-58fbda2402c9"
      },
      "source": [
        "for idx, val in enumerate([\"I\", \"like\", \"learning\"]):\n",
        "    print(idx,val)"
      ],
      "execution_count": null,
      "outputs": [
        {
          "output_type": "stream",
          "text": [
            "0 I\n",
            "1 like\n",
            "2 learning\n"
          ],
          "name": "stdout"
        }
      ]
    },
    {
      "cell_type": "code",
      "metadata": {
        "collapsed": true,
        "id": "w4JcxJXpRvZo",
        "colab_type": "code",
        "colab": {}
      },
      "source": [
        "# GRADED FUNCTION: sentences_to_indices\n",
        "\n",
        "def sentences_to_indices(X, word_to_index, max_len):\n",
        "    \"\"\"\n",
        "    Converts an array of sentences (strings) into an array of indices corresponding to words in the sentences.\n",
        "    The output shape should be such that it can be given to `Embedding()` (described in Figure 4). \n",
        "    \n",
        "    Arguments:\n",
        "    X -- array of sentences (strings), of shape (m, 1)\n",
        "    word_to_index -- a dictionary containing the each word mapped to its index\n",
        "    max_len -- maximum number of words in a sentence. You can assume every sentence in X is no longer than this. \n",
        "    \n",
        "    Returns:\n",
        "    X_indices -- array of indices corresponding to words in the sentences from X, of shape (m, max_len)\n",
        "    \"\"\"\n",
        "    \n",
        "    m = X.shape[0]                                   # number of training examples\n",
        "    \n",
        "    ### START CODE HERE ###\n",
        "    # Initialize X_indices as a numpy matrix of zeros and the correct shape (≈ 1 line)\n",
        "    X_indices = np.zeros((m, max_len))\n",
        "    \n",
        "    for i in range(m):                               # loop over training examples\n",
        "        \n",
        "        # Convert the ith training sentence in lower case and split is into words. You should get a list of words.\n",
        "        sentence_words = X[i].lower().split()\n",
        "        \n",
        "        # Initialize j to 0\n",
        "        j = 0\n",
        "        \n",
        "        # Loop over the words of sentence_words\n",
        "        for w in sentence_words:\n",
        "            # Set the (i,j)th entry of X_indices to the index of the correct word.\n",
        "            X_indices[i, j] = word_to_index[w]\n",
        "            # Increment j to j + 1\n",
        "            j = j + 1\n",
        "            \n",
        "    ### END CODE HERE ###\n",
        "    \n",
        "    return X_indices"
      ],
      "execution_count": null,
      "outputs": []
    },
    {
      "cell_type": "markdown",
      "metadata": {
        "id": "kSPvRLmtRvZp",
        "colab_type": "text"
      },
      "source": [
        "Run the following cell to check what `sentences_to_indices()` does, and check your results."
      ]
    },
    {
      "cell_type": "code",
      "metadata": {
        "id": "TLD7xaH_RvZp",
        "colab_type": "code",
        "colab": {},
        "outputId": "1b15c160-e457-4c25-b4b7-13c463b3291f"
      },
      "source": [
        "X1 = np.array([\"funny lol\", \"lets play baseball\", \"food is ready for you\"])\n",
        "X1_indices = sentences_to_indices(X1,word_to_index, max_len = 5)\n",
        "print(\"X1 =\", X1)\n",
        "print(\"X1_indices =\\n\", X1_indices)"
      ],
      "execution_count": null,
      "outputs": [
        {
          "output_type": "stream",
          "text": [
            "X1 = ['funny lol' 'lets play baseball' 'food is ready for you']\n",
            "X1_indices =\n",
            " [[ 155345.  225122.       0.       0.       0.]\n",
            " [ 220930.  286375.   69714.       0.       0.]\n",
            " [ 151204.  192973.  302254.  151349.  394475.]]\n"
          ],
          "name": "stdout"
        }
      ]
    },
    {
      "cell_type": "markdown",
      "metadata": {
        "id": "8e2lhOR3RvZt",
        "colab_type": "text"
      },
      "source": [
        "**Expected Output**:\n",
        "\n",
        "```Python\n",
        "X1 = ['funny lol' 'lets play baseball' 'food is ready for you']\n",
        "X1_indices =\n",
        " [[ 155345.  225122.       0.       0.       0.]\n",
        " [ 220930.  286375.   69714.       0.       0.]\n",
        " [ 151204.  192973.  302254.  151349.  394475.]]\n",
        "```"
      ]
    },
    {
      "cell_type": "markdown",
      "metadata": {
        "id": "Ko_u-2WyRvZt",
        "colab_type": "text"
      },
      "source": [
        "#### Build embedding layer\n",
        "\n",
        "* Let's build the `Embedding()` layer in Keras, using pre-trained word vectors. \n",
        "* The embedding layer takes as input a list of word indices.\n",
        "    * `sentences_to_indices()` creates these word indices.\n",
        "* The embedding layer will return the word embeddings for a sentence. \n",
        "\n",
        "**Exercise**: Implement `pretrained_embedding_layer()` with these steps:\n",
        "1. Initialize the embedding matrix as a numpy array of zeros.\n",
        "    * The embedding matrix has a row for each unique word in the vocabulary.\n",
        "        * There is one additional row to handle \"unknown\" words.\n",
        "        * So vocab_len is the number of unique words plus one.\n",
        "    * Each row will store the vector representation of one word. \n",
        "        * For example, one row may be 50 positions long if using GloVe word vectors.\n",
        "    * In the code below, `emb_dim` represents the length of a word embedding.\n",
        "2. Fill in each row of the embedding matrix with the vector representation of a word\n",
        "    * Each word in `word_to_index` is a string.\n",
        "    * word_to_vec_map is a dictionary where the keys are strings and the values are the word vectors.\n",
        "3. Define the Keras embedding layer. \n",
        "    * Use [Embedding()](https://keras.io/layers/embeddings/). \n",
        "    * The input dimension is equal to the vocabulary length (number of unique words plus one).\n",
        "    * The output dimension is equal to the number of positions in a word embedding.\n",
        "    * Make this layer's embeddings fixed.\n",
        "        * If you were to set `trainable = True`, then it will allow the optimization algorithm to modify the values of the word embeddings.\n",
        "        * In this case, we don't want the model to modify the word embeddings.\n",
        "4. Set the embedding weights to be equal to the embedding matrix.\n",
        "    * Note that this is part of the code is already completed for you and does not need to be modified. "
      ]
    },
    {
      "cell_type": "code",
      "metadata": {
        "collapsed": true,
        "id": "8BBdxFAnRvZt",
        "colab_type": "code",
        "colab": {}
      },
      "source": [
        "# GRADED FUNCTION: pretrained_embedding_layer\n",
        "\n",
        "def pretrained_embedding_layer(word_to_vec_map, word_to_index):\n",
        "    \"\"\"\n",
        "    Creates a Keras Embedding() layer and loads in pre-trained GloVe 50-dimensional vectors.\n",
        "    \n",
        "    Arguments:\n",
        "    word_to_vec_map -- dictionary mapping words to their GloVe vector representation.\n",
        "    word_to_index -- dictionary mapping from words to their indices in the vocabulary (400,001 words)\n",
        "\n",
        "    Returns:\n",
        "    embedding_layer -- pretrained layer Keras instance\n",
        "    \"\"\"\n",
        "    \n",
        "    vocab_len = len(word_to_index) + 1                  # adding 1 to fit Keras embedding (requirement)\n",
        "    emb_dim = word_to_vec_map[\"cucumber\"].shape[0]      # define dimensionality of your GloVe word vectors (= 50)\n",
        "    \n",
        "    ### START CODE HERE ###\n",
        "    # Step 1\n",
        "    # Initialize the embedding matrix as a numpy array of zeros.\n",
        "    # See instructions above to choose the correct shape.\n",
        "    emb_matrix = np.zeros((vocab_len,emb_dim))\n",
        "    \n",
        "    # Step 2\n",
        "    # Set each row \"idx\" of the embedding matrix to be \n",
        "    # the word vector representation of the idx'th word of the vocabulary\n",
        "    for word, idx in word_to_index.items():\n",
        "        emb_matrix[idx, :] = word_to_vec_map[word]\n",
        "\n",
        "    # Step 3\n",
        "    # Define Keras embedding layer with the correct input and output sizes\n",
        "    # Make it non-trainable.\n",
        "    embedding_layer = Embedding(vocab_len, emb_dim, trainable=False)\n",
        "    ### END CODE HERE ###\n",
        "\n",
        "    # Step 4 (already done for you; please do not modify)\n",
        "    # Build the embedding layer, it is required before setting the weights of the embedding layer. \n",
        "    embedding_layer.build((None,)) # Do not modify the \"None\".  This line of code is complete as-is.\n",
        "    \n",
        "    # Set the weights of the embedding layer to the embedding matrix. Your layer is now pretrained.\n",
        "    embedding_layer.set_weights([emb_matrix])\n",
        "    \n",
        "    return embedding_layer"
      ],
      "execution_count": null,
      "outputs": []
    },
    {
      "cell_type": "code",
      "metadata": {
        "id": "V3BYY5TIRvZv",
        "colab_type": "code",
        "colab": {},
        "outputId": "96f73584-b2df-4f85-97ae-8773ab57fe8e"
      },
      "source": [
        "embedding_layer = pretrained_embedding_layer(word_to_vec_map, word_to_index)\n",
        "print(\"weights[0][1][3] =\", embedding_layer.get_weights()[0][1][3])"
      ],
      "execution_count": null,
      "outputs": [
        {
          "output_type": "stream",
          "text": [
            "weights[0][1][3] = -0.3403\n"
          ],
          "name": "stdout"
        }
      ]
    },
    {
      "cell_type": "markdown",
      "metadata": {
        "id": "YT4PEbvSRvZx",
        "colab_type": "text"
      },
      "source": [
        "**Expected Output**:\n",
        "\n",
        "```Python\n",
        "weights[0][1][3] = -0.3403\n",
        "```"
      ]
    },
    {
      "cell_type": "markdown",
      "metadata": {
        "id": "GPvizx8_RvZx",
        "colab_type": "text"
      },
      "source": [
        "## 2.3 Building the Emojifier-V2\n",
        "\n",
        "Lets now build the Emojifier-V2 model. \n",
        "* You feed the embedding layer's output to an LSTM network. \n",
        "\n",
        "<img src=\"images/emojifier-v2.png\" style=\"width:700px;height:400px;\"> <br>\n",
        "<caption><center> **Figure 3**: Emojifier-v2. A 2-layer LSTM sequence classifier. </center></caption>\n",
        "\n",
        "\n",
        "**Exercise:** Implement `Emojify_V2()`, which builds a Keras graph of the architecture shown in Figure 3. \n",
        "* The model takes as input an array of sentences of shape (`m`, `max_len`, ) defined by `input_shape`. \n",
        "* The model outputs a softmax probability vector of shape (`m`, `C = 5`). \n",
        "\n",
        "* You may need to use the following Keras layers:\n",
        "    * [Input()](https://keras.io/layers/core/#input)\n",
        "        * Set the `shape` and `dtype` parameters.\n",
        "        * The inputs are integers, so you can specify the data type as a string, 'int32'.\n",
        "    * [LSTM()](https://keras.io/layers/recurrent/#lstm)\n",
        "        * Set the `units` and `return_sequences` parameters.\n",
        "    * [Dropout()](https://keras.io/layers/core/#dropout)\n",
        "        * Set the `rate` parameter.\n",
        "    * [Dense()](https://keras.io/layers/core/#dense)\n",
        "        * Set the `units`, \n",
        "        * Note that `Dense()` has an `activation` parameter.  For the purposes of passing the autograder, please do not set the activation within `Dense()`.  Use the separate `Activation` layer to do so.\n",
        "    * [Activation()](https://keras.io/activations/).\n",
        "        * You can pass in the activation of your choice as a lowercase string.\n",
        "    * [Model](https://keras.io/models/model/)\n",
        "        Set `inputs` and `outputs`.\n",
        "\n",
        "\n",
        "#### Additional Hints\n",
        "* Remember that these Keras layers return an object, and you will feed in the outputs of the previous layer as the input arguments to that object.  The returned object can be created and called in the same line.\n",
        "\n",
        "```Python\n",
        "# How to use Keras layers in two lines of code\n",
        "dense_object = Dense(units = ...)\n",
        "X = dense_object(inputs)\n",
        "\n",
        "# How to use Keras layers in one line of code\n",
        "X = Dense(units = ...)(inputs)\n",
        "```\n",
        "\n",
        "* The `embedding_layer` that is returned by `pretrained_embedding_layer` is a layer object that can be called as a function, passing in a single argument (sentence indices).\n",
        "\n",
        "* Here is some sample code in case you're stuck\n",
        "```Python\n",
        "raw_inputs = Input(shape=(maxLen,), dtype='int32')\n",
        "preprocessed_inputs = ... # some pre-processing\n",
        "X = LSTM(units = ..., return_sequences= ...)(processed_inputs)\n",
        "X = Dropout(rate = ..., )(X)\n",
        "...\n",
        "X = Dense(units = ...)(X)\n",
        "X = Activation(...)(X)\n",
        "model = Model(inputs=..., outputs=...)\n",
        "...\n",
        "```\n",
        "\n"
      ]
    },
    {
      "cell_type": "code",
      "metadata": {
        "id": "3UAXKEsDRvZy",
        "colab_type": "code",
        "colab": {}
      },
      "source": [
        "# GRADED FUNCTION: Emojify_V2\n",
        "\n",
        "def Emojify_V2(input_shape, word_to_vec_map, word_to_index):\n",
        "    \"\"\"\n",
        "    Function creating the Emojify-v2 model's graph.\n",
        "    \n",
        "    Arguments:\n",
        "    input_shape -- shape of the input, usually (max_len,)\n",
        "    word_to_vec_map -- dictionary mapping every word in a vocabulary into its 50-dimensional vector representation\n",
        "    word_to_index -- dictionary mapping from words to their indices in the vocabulary (400,001 words)\n",
        "\n",
        "    Returns:\n",
        "    model -- a model instance in Keras\n",
        "    \"\"\"\n",
        "    \n",
        "    ### START CODE HERE ###\n",
        "    # Define sentence_indices as the input of the graph.\n",
        "    # It should be of shape input_shape and dtype 'int32' (as it contains indices, which are integers).\n",
        "    sentence_indices = Input(shape=(input_shape), dtype='int32')\n",
        "    \n",
        "    # Create the embedding layer pretrained with GloVe Vectors (≈1 line)\n",
        "    embedding_layer = pretrained_embedding_layer(word_to_vec_map, word_to_index)\n",
        "    \n",
        "    # Propagate sentence_indices through your embedding layer\n",
        "    # (See additional hints in the instructions).\n",
        "    embeddings = embedding_layer(sentence_indices)\n",
        "    \n",
        "    # Propagate the embeddings through an LSTM layer with 128-dimensional hidden state\n",
        "    # The returned output should be a batch of sequences.\n",
        "    X = LSTM(units = 128, return_sequences = True)(embeddings)\n",
        "    # Add dropout with a probability of 0.5\n",
        "    X = Dropout(rate = 0.5)(X)\n",
        "    # Propagate X trough another LSTM layer with 128-dimensional hidden state\n",
        "    # The returned output should be a single hidden state, not a batch of sequences.\n",
        "    X = LSTM(units = 128, return_sequences = False)(X)\n",
        "    # Add dropout with a probability of 0.5\n",
        "    X = Dropout(rate = 0.5)(X)\n",
        "    # Propagate X through a Dense layer with 5 units\n",
        "    X = Dense(units = 5)(X)\n",
        "    # Add a softmax activation\n",
        "    X = Activation('softmax')(X)\n",
        "    \n",
        "    # Create Model instance which converts sentence_indices into X.\n",
        "    model = Model(inputs = sentence_indices, outputs = X)\n",
        "    \n",
        "    ### END CODE HERE ###\n",
        "    \n",
        "    return model"
      ],
      "execution_count": null,
      "outputs": []
    },
    {
      "cell_type": "markdown",
      "metadata": {
        "id": "1TubaN9SRvZz",
        "colab_type": "text"
      },
      "source": [
        "Run the following cell to create your model and check its summary. Because all sentences in the dataset are less than 10 words, we chose `max_len = 10`.  You should see your architecture, it uses \"20,223,927\" parameters, of which 20,000,050 (the word embeddings) are non-trainable, and the remaining 223,877 are. Because our vocabulary size has 400,001 words (with valid indices from 0 to 400,000) there are 400,001\\*50 = 20,000,050 non-trainable parameters. "
      ]
    },
    {
      "cell_type": "code",
      "metadata": {
        "scrolled": false,
        "id": "vJRbqN_3RvZ0",
        "colab_type": "code",
        "colab": {},
        "outputId": "8c30127a-13cd-411d-b8e8-4ce81ebd1081"
      },
      "source": [
        "model = Emojify_V2((maxLen,), word_to_vec_map, word_to_index)\n",
        "model.summary()"
      ],
      "execution_count": null,
      "outputs": [
        {
          "output_type": "stream",
          "text": [
            "_________________________________________________________________\n",
            "Layer (type)                 Output Shape              Param #   \n",
            "=================================================================\n",
            "input_3 (InputLayer)         (None, 10)                0         \n",
            "_________________________________________________________________\n",
            "embedding_3 (Embedding)      (None, 10, 50)            20000050  \n",
            "_________________________________________________________________\n",
            "lstm_3 (LSTM)                (None, 10, 128)           91648     \n",
            "_________________________________________________________________\n",
            "dropout_3 (Dropout)          (None, 10, 128)           0         \n",
            "_________________________________________________________________\n",
            "lstm_4 (LSTM)                (None, 128)               131584    \n",
            "_________________________________________________________________\n",
            "dropout_4 (Dropout)          (None, 128)               0         \n",
            "_________________________________________________________________\n",
            "dense_2 (Dense)              (None, 5)                 645       \n",
            "_________________________________________________________________\n",
            "activation_2 (Activation)    (None, 5)                 0         \n",
            "=================================================================\n",
            "Total params: 20,223,927\n",
            "Trainable params: 223,877\n",
            "Non-trainable params: 20,000,050\n",
            "_________________________________________________________________\n"
          ],
          "name": "stdout"
        }
      ]
    },
    {
      "cell_type": "markdown",
      "metadata": {
        "id": "Z_7PxFsWRvZ1",
        "colab_type": "text"
      },
      "source": [
        "As usual, after creating your model in Keras, you need to compile it and define what loss, optimizer and metrics your are want to use. Compile your model using `categorical_crossentropy` loss, `adam` optimizer and `['accuracy']` metrics:"
      ]
    },
    {
      "cell_type": "code",
      "metadata": {
        "id": "EXkCJrdBRvZ1",
        "colab_type": "code",
        "colab": {}
      },
      "source": [
        "model.compile(loss='categorical_crossentropy', optimizer='adam', metrics=['accuracy'])"
      ],
      "execution_count": null,
      "outputs": []
    },
    {
      "cell_type": "markdown",
      "metadata": {
        "id": "Aiv9k7hmRvZ4",
        "colab_type": "text"
      },
      "source": [
        "It's time to train your model. Your Emojifier-V2 `model` takes as input an array of shape (`m`, `max_len`) and outputs probability vectors of shape (`m`, `number of classes`). We thus have to convert X_train (array of sentences as strings) to X_train_indices (array of sentences as list of word indices), and Y_train (labels as indices) to Y_train_oh (labels as one-hot vectors)."
      ]
    },
    {
      "cell_type": "code",
      "metadata": {
        "id": "46fVvjoBRvZ4",
        "colab_type": "code",
        "colab": {}
      },
      "source": [
        "X_train_indices = sentences_to_indices(X_train, word_to_index, maxLen)\n",
        "Y_train_oh = convert_to_one_hot(Y_train, C = 5)"
      ],
      "execution_count": null,
      "outputs": []
    },
    {
      "cell_type": "markdown",
      "metadata": {
        "id": "Mlgsn2p3RvZ6",
        "colab_type": "text"
      },
      "source": [
        "Fit the Keras model on `X_train_indices` and `Y_train_oh`. We will use `epochs = 50` and `batch_size = 32`."
      ]
    },
    {
      "cell_type": "code",
      "metadata": {
        "scrolled": true,
        "id": "hZ-3jg3vRvZ6",
        "colab_type": "code",
        "colab": {},
        "outputId": "65c3219c-c1af-40b7-bf8e-303cb0daf10c"
      },
      "source": [
        "model.fit(X_train_indices, Y_train_oh, epochs = 50, batch_size = 32, shuffle=True)"
      ],
      "execution_count": null,
      "outputs": [
        {
          "output_type": "stream",
          "text": [
            "Epoch 1/50\n",
            "132/132 [==============================] - 0s - loss: 1.5989 - acc: 0.2652     \n",
            "Epoch 2/50\n",
            "132/132 [==============================] - 0s - loss: 1.5249 - acc: 0.3636     \n",
            "Epoch 3/50\n",
            "132/132 [==============================] - 0s - loss: 1.4817 - acc: 0.3485     \n",
            "Epoch 4/50\n",
            "132/132 [==============================] - 0s - loss: 1.4410 - acc: 0.4318     \n",
            "Epoch 5/50\n",
            "132/132 [==============================] - 0s - loss: 1.3314 - acc: 0.5000     \n",
            "Epoch 6/50\n",
            "132/132 [==============================] - 0s - loss: 1.2079 - acc: 0.5455     \n",
            "Epoch 7/50\n",
            "132/132 [==============================] - 0s - loss: 1.1068 - acc: 0.5833     \n",
            "Epoch 8/50\n",
            "132/132 [==============================] - 0s - loss: 1.0043 - acc: 0.5758     \n",
            "Epoch 9/50\n",
            "132/132 [==============================] - 0s - loss: 0.9682 - acc: 0.6364     \n",
            "Epoch 10/50\n",
            "132/132 [==============================] - 0s - loss: 0.7872 - acc: 0.6970     \n",
            "Epoch 11/50\n",
            "132/132 [==============================] - 0s - loss: 0.7088 - acc: 0.7424     \n",
            "Epoch 12/50\n",
            "132/132 [==============================] - 0s - loss: 0.6706 - acc: 0.7955     \n",
            "Epoch 13/50\n",
            "132/132 [==============================] - 0s - loss: 0.5908 - acc: 0.8182     \n",
            "Epoch 14/50\n",
            "132/132 [==============================] - 0s - loss: 0.5233 - acc: 0.8182     \n",
            "Epoch 15/50\n",
            "132/132 [==============================] - 0s - loss: 0.4572 - acc: 0.8636     \n",
            "Epoch 16/50\n",
            "132/132 [==============================] - 0s - loss: 0.3523 - acc: 0.9091     \n",
            "Epoch 17/50\n",
            "132/132 [==============================] - 0s - loss: 0.3114 - acc: 0.8864     \n",
            "Epoch 18/50\n",
            "132/132 [==============================] - 0s - loss: 0.2800 - acc: 0.9015     \n",
            "Epoch 19/50\n",
            "132/132 [==============================] - 0s - loss: 0.2554 - acc: 0.9015     \n",
            "Epoch 20/50\n",
            "132/132 [==============================] - 0s - loss: 0.2428 - acc: 0.9091     \n",
            "Epoch 21/50\n",
            "132/132 [==============================] - 0s - loss: 0.1894 - acc: 0.9242     \n",
            "Epoch 22/50\n",
            "132/132 [==============================] - 0s - loss: 0.4625 - acc: 0.8333     \n",
            "Epoch 23/50\n",
            "132/132 [==============================] - 0s - loss: 0.2664 - acc: 0.8788     \n",
            "Epoch 24/50\n",
            "132/132 [==============================] - 0s - loss: 0.3202 - acc: 0.8864     \n",
            "Epoch 25/50\n",
            "132/132 [==============================] - 0s - loss: 0.3423 - acc: 0.8864     \n",
            "Epoch 26/50\n",
            "132/132 [==============================] - 0s - loss: 0.2046 - acc: 0.9318     \n",
            "Epoch 27/50\n",
            "132/132 [==============================] - 0s - loss: 0.1991 - acc: 0.9394     \n",
            "Epoch 28/50\n",
            "132/132 [==============================] - 0s - loss: 0.1490 - acc: 0.9621     \n",
            "Epoch 29/50\n",
            "132/132 [==============================] - 0s - loss: 0.1323 - acc: 0.9697     \n",
            "Epoch 30/50\n",
            "132/132 [==============================] - 0s - loss: 0.1302 - acc: 0.9848     \n",
            "Epoch 31/50\n",
            "132/132 [==============================] - 0s - loss: 0.0876 - acc: 0.9848     \n",
            "Epoch 32/50\n",
            "132/132 [==============================] - 0s - loss: 0.1111 - acc: 0.9545     \n",
            "Epoch 33/50\n",
            "132/132 [==============================] - 0s - loss: 0.1003 - acc: 0.9697     \n",
            "Epoch 34/50\n",
            "132/132 [==============================] - 0s - loss: 0.1254 - acc: 0.9545     \n",
            "Epoch 35/50\n",
            "132/132 [==============================] - 0s - loss: 0.1718 - acc: 0.9470     \n",
            "Epoch 36/50\n",
            "132/132 [==============================] - 0s - loss: 0.1153 - acc: 0.9773     \n",
            "Epoch 37/50\n",
            "132/132 [==============================] - 0s - loss: 0.1114 - acc: 0.9697     \n",
            "Epoch 38/50\n",
            "132/132 [==============================] - 0s - loss: 0.2257 - acc: 0.9167     \n",
            "Epoch 39/50\n",
            "132/132 [==============================] - 0s - loss: 0.1643 - acc: 0.9470     \n",
            "Epoch 40/50\n",
            "132/132 [==============================] - 0s - loss: 0.1391 - acc: 0.9470     \n",
            "Epoch 41/50\n",
            "132/132 [==============================] - 0s - loss: 0.1830 - acc: 0.9242     \n",
            "Epoch 42/50\n",
            "132/132 [==============================] - 0s - loss: 0.1212 - acc: 0.9470     \n",
            "Epoch 43/50\n",
            "132/132 [==============================] - 0s - loss: 0.1473 - acc: 0.9470     \n",
            "Epoch 44/50\n",
            "132/132 [==============================] - 0s - loss: 0.1013 - acc: 0.9545     \n",
            "Epoch 45/50\n",
            "132/132 [==============================] - 0s - loss: 0.1399 - acc: 0.9470     \n",
            "Epoch 46/50\n",
            "132/132 [==============================] - 0s - loss: 0.1393 - acc: 0.9394     \n",
            "Epoch 47/50\n",
            "132/132 [==============================] - 0s - loss: 0.0745 - acc: 0.9773     - ETA: 0s - loss: 0.0713 - acc: 0.976\n",
            "Epoch 48/50\n",
            "132/132 [==============================] - 0s - loss: 0.1343 - acc: 0.9621     \n",
            "Epoch 49/50\n",
            "132/132 [==============================] - 0s - loss: 0.0804 - acc: 0.9773     \n",
            "Epoch 50/50\n",
            "132/132 [==============================] - 0s - loss: 0.0621 - acc: 0.9848     \n"
          ],
          "name": "stdout"
        },
        {
          "output_type": "execute_result",
          "data": {
            "text/plain": [
              "<keras.callbacks.History at 0x7f750cbcee48>"
            ]
          },
          "metadata": {
            "tags": []
          },
          "execution_count": 33
        }
      ]
    },
    {
      "cell_type": "markdown",
      "metadata": {
        "id": "sGVyrOCsRvZ7",
        "colab_type": "text"
      },
      "source": [
        "Your model should perform around **90% to 100% accuracy** on the training set. The exact accuracy you get may be a little different. Run the following cell to evaluate your model on the test set. "
      ]
    },
    {
      "cell_type": "code",
      "metadata": {
        "scrolled": true,
        "id": "LU4pb7dlRvZ8",
        "colab_type": "code",
        "colab": {},
        "outputId": "eb214e1c-17e6-4f32-bf25-6f007a6d234e"
      },
      "source": [
        "X_test_indices = sentences_to_indices(X_test, word_to_index, max_len = maxLen)\n",
        "Y_test_oh = convert_to_one_hot(Y_test, C = 5)\n",
        "loss, acc = model.evaluate(X_test_indices, Y_test_oh)\n",
        "print()\n",
        "print(\"Test accuracy = \", acc)"
      ],
      "execution_count": null,
      "outputs": [
        {
          "output_type": "stream",
          "text": [
            "32/56 [================>.............] - ETA: 0s\n",
            "Test accuracy =  0.785714294229\n"
          ],
          "name": "stdout"
        }
      ]
    },
    {
      "cell_type": "markdown",
      "metadata": {
        "id": "SzY0uODRRvZ9",
        "colab_type": "text"
      },
      "source": [
        "You should get a test accuracy between 80% and 95%. Run the cell below to see the mislabelled examples. "
      ]
    },
    {
      "cell_type": "code",
      "metadata": {
        "id": "9MfrDmJWRvZ9",
        "colab_type": "code",
        "colab": {},
        "outputId": "67868b09-726d-4e58-dd70-7c344652b476"
      },
      "source": [
        "# This code allows you to see the mislabelled examples\n",
        "C = 5\n",
        "y_test_oh = np.eye(C)[Y_test.reshape(-1)]\n",
        "X_test_indices = sentences_to_indices(X_test, word_to_index, maxLen)\n",
        "pred = model.predict(X_test_indices)\n",
        "for i in range(len(X_test)):\n",
        "    x = X_test_indices\n",
        "    num = np.argmax(pred[i])\n",
        "    if(num != Y_test[i]):\n",
        "        print('Expected emoji:'+ label_to_emoji(Y_test[i]) + ' prediction: '+ X_test[i] + label_to_emoji(num).strip())"
      ],
      "execution_count": null,
      "outputs": [
        {
          "output_type": "stream",
          "text": [
            "Expected emoji:😞 prediction: work is hard\t😄\n",
            "Expected emoji:😞 prediction: This girl is messing with me\t❤️\n",
            "Expected emoji:😞 prediction: work is horrible\t😄\n",
            "Expected emoji:😄 prediction: you brighten my day\t❤️\n",
            "Expected emoji:😞 prediction: she is a bully\t❤️\n",
            "Expected emoji:⚾ prediction: give me the ball😄\n",
            "Expected emoji:⚾ prediction: enjoy your game😄\n",
            "Expected emoji:😞 prediction: My life is so boring\t❤️\n",
            "Expected emoji:😄 prediction: will you be my valentine\t❤️\n",
            "Expected emoji:⚾ prediction: he can pitch really well\t😄\n",
            "Expected emoji:⚾ prediction: what is your favorite baseball game\t😄\n",
            "Expected emoji:❤️ prediction: I love you to the stars and back\t😄\n"
          ],
          "name": "stdout"
        }
      ]
    },
    {
      "cell_type": "markdown",
      "metadata": {
        "id": "IfRZuvArRvZ-",
        "colab_type": "text"
      },
      "source": [
        "Now you can try it on your own example. Write your own sentence below. "
      ]
    },
    {
      "cell_type": "code",
      "metadata": {
        "id": "ooJHALmTRvZ_",
        "colab_type": "code",
        "colab": {},
        "outputId": "b8f56495-9898-4607-c60e-477993db5ba2"
      },
      "source": [
        "# Change the sentence below to see your prediction. Make sure all the words are in the Glove embeddings.  \n",
        "x_test = np.array(['I like you'])\n",
        "X_test_indices = sentences_to_indices(x_test, word_to_index, maxLen)\n",
        "print(x_test[0] +' '+  label_to_emoji(np.argmax(model.predict(X_test_indices))))"
      ],
      "execution_count": null,
      "outputs": [
        {
          "output_type": "stream",
          "text": [
            "I like you ❤️\n"
          ],
          "name": "stdout"
        }
      ]
    },
    {
      "cell_type": "markdown",
      "metadata": {
        "id": "oIi3y9tyRvaA",
        "colab_type": "text"
      },
      "source": [
        "## LSTM version accounts for word order\n",
        "* Previously, Emojify-V1 model did not correctly label \"not feeling happy,\" but our implementation of Emojiy-V2 got it right. \n",
        "    * (Keras' outputs are slightly random each time, so you may not have obtained the same result.) \n",
        "* The current model still isn't very robust at understanding negation (such as \"not happy\")\n",
        "    * This is because the training set is small and doesn't have a lot of examples of negation. \n",
        "    * But if the training set were larger, the LSTM model would be much better than the Emojify-V1 model at understanding such complex sentences. \n"
      ]
    },
    {
      "cell_type": "markdown",
      "metadata": {
        "id": "4o9yRzdXRvaB",
        "colab_type": "text"
      },
      "source": [
        "### Congratulations!\n",
        "\n",
        "You have completed this notebook! ❤️❤️❤️\n",
        "\n",
        "\n",
        "## What you should remember\n",
        "- If you have an NLP task where the training set is small, using word embeddings can help your algorithm significantly. \n",
        "- Word embeddings allow your model to work on words in the test set that may not even appear in the training set. \n",
        "- Training sequence models in Keras (and in most other deep learning frameworks) requires a few important details:\n",
        "    - To use mini-batches, the sequences need to be **padded** so that all the examples in a mini-batch have the **same length**. \n",
        "    - An `Embedding()` layer can be initialized with pretrained values. \n",
        "        - These values can be either fixed or trained further on your dataset. \n",
        "        - If however your labeled dataset is small, it's usually not worth trying to train a large pre-trained set of embeddings.   \n",
        "    - `LSTM()` has a flag called `return_sequences` to decide if you would like to return every hidden states or only the last one. \n",
        "    - You can use `Dropout()` right after `LSTM()` to regularize your network. "
      ]
    },
    {
      "cell_type": "markdown",
      "metadata": {
        "id": "bLpjeBjQRvaB",
        "colab_type": "text"
      },
      "source": [
        "\n",
        "#### Input sentences:\n",
        "```Python\n",
        "\"Congratulations on finishing this assignment and building an Emojifier.\"\n",
        "\"We hope you're happy with what you've accomplished in this notebook!\"\n",
        "```\n",
        "#### Output emojis:\n",
        "# 😀😀😀😀😀😀"
      ]
    },
    {
      "cell_type": "markdown",
      "metadata": {
        "id": "5fGYkkYYRvaB",
        "colab_type": "text"
      },
      "source": [
        "## Acknowledgments\n",
        "\n",
        "Thanks to Alison Darcy and the Woebot team for their advice on the creation of this assignment. \n",
        "* Woebot is a chatbot friend that is ready to speak with you 24/7. \n",
        "* Part of Woebot's technology uses word embeddings to understand the emotions of what you say. \n",
        "* You can chat with Woebot by going to http://woebot.io\n",
        "\n",
        "<img src=\"images/woebot.png\" style=\"width:600px;height:300px;\">"
      ]
    },
    {
      "cell_type": "code",
      "metadata": {
        "id": "_CeqnEGmRvaB",
        "colab_type": "code",
        "colab": {}
      },
      "source": [
        ""
      ],
      "execution_count": null,
      "outputs": []
    }
  ]
}